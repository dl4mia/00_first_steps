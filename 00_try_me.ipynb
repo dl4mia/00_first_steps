{
 "cells": [
  {
   "cell_type": "markdown",
   "id": "044623e8",
   "metadata": {},
   "source": [
    "## 00 - The first notebook\n",
    "\n",
    "Click on the first cell with code and press `shift+enter` to run a single cell. You have more options and shortcuts in the `Cell` menu."
   ]
  },
  {
   "cell_type": "code",
   "execution_count": null,
   "id": "163cae1d",
   "metadata": {},
   "outputs": [],
   "source": [
    "import numpy # for no good reason\n",
    "\n",
    "def decode(s):\n",
    "    return bytes.fromhex(s)"
   ]
  },
  {
   "cell_type": "code",
   "execution_count": null,
   "id": "6dce3295",
   "metadata": {},
   "outputs": [],
   "source": [
    "message = \"48 65 6c 6c 6f 20 77 6f 72 6c 64 21\"\n",
    "\n",
    "print(decode(message))"
   ]
  },
  {
   "cell_type": "code",
   "execution_count": null,
   "id": "4d2d6717",
   "metadata": {},
   "outputs": [],
   "source": []
  }
 ],
 "metadata": {
  "kernelspec": {
   "display_name": "Python 3",
   "language": "python",
   "name": "python3"
  },
  "language_info": {
   "codemirror_mode": {
    "name": "ipython",
    "version": 3
   },
   "file_extension": ".py",
   "mimetype": "text/x-python",
   "name": "python",
   "nbconvert_exporter": "python",
   "pygments_lexer": "ipython3",
   "version": "3.8.5"
  }
 },
 "nbformat": 4,
 "nbformat_minor": 5
}
