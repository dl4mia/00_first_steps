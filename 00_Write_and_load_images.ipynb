{
 "cells": [
  {
   "cell_type": "markdown",
   "id": "be05cf7c",
   "metadata": {},
   "source": [
    "# Writing, Loading, and Plotting of images\n",
    "\n",
    "Writing, loading and plotting (displaying) images are necessary components of the scientific python toolbox for microscopy. In this notebook, we just present some aspects of `jupyter notebooks`, before playing around with images. \n",
    "\n",
    "This notebook is a simple (?) introduction, it helps getting into the flow and maybe learning about some new tools. You can come back later to it if you don't manager to finish on time.\n",
    "\n",
    "**Important**: In this notebook, the exercises are indicated by comments blocks and `....`. You will have to write code instead of the `....`. In general, the answers should be simple and are sometimes very close to other lines of code that you ran in previous cells."
   ]
  },
  {
   "cell_type": "markdown",
   "id": "044623e8",
   "metadata": {},
   "source": [
    "## 0 - The first cell\n",
    "\n",
    "Click on the first cell with code and press `shift+enter` to run a single cell. You have more options and shortcuts in the `Edit` and `Cell` menus."
   ]
  },
  {
   "cell_type": "code",
   "execution_count": null,
   "id": "163cae1d",
   "metadata": {},
   "outputs": [],
   "source": [
    "def decode(s):\n",
    "    '''\n",
    "    Decode hexadecimal messages.\n",
    "    '''\n",
    "    return bytes.fromhex(s)"
   ]
  },
  {
   "cell_type": "code",
   "execution_count": null,
   "id": "6dce3295",
   "metadata": {},
   "outputs": [],
   "source": [
    "message = \"4C 65 74 27 73 20 73 74 61 72 74 21\"\n",
    "\n",
    "print(decode(message))"
   ]
  },
  {
   "cell_type": "markdown",
   "id": "ca49473a",
   "metadata": {},
   "source": [
    "### 1 - Creating an image with numpy\n",
    "\n",
    "In this first real python exercise, we are going to create a `numpy` array representing a 3D stack and learn how to show it in the `jupyter notebook`. Run the first cell to add the function definition to the current session."
   ]
  },
  {
   "cell_type": "code",
   "execution_count": null,
   "id": "7e4ee65b",
   "metadata": {},
   "outputs": [],
   "source": [
    "import numpy as np\n",
    "\n",
    "# You don't have to understand the function to continue\n",
    "def get_3D_gaussian(delta_z, size_xy=255, std_xy=20., std_z=3., a0=255):    \n",
    "    '''\n",
    "    Return a single slice of a 3D Gaussian whose standard deviation and amplitude depend on the \n",
    "    distance to the central plane z=0.\n",
    "    \n",
    "    Basically some sort of PSF.\n",
    "\n",
    "            Parameters:\n",
    "                    size_xy (int): Size of the slice in X and Y directions\n",
    "                    delta_z (int): Distance of the slice to the center (positive \n",
    "                                   or negative)\n",
    "                    a0 (int): Maximum amplitude of the Gaussian. \n",
    "                    std_xy (float): Standard deviation in pixels of the Gaussian \n",
    "                                    in the X and Y directions.\n",
    "                    std_z (float): Standard deviation in pixels of the Gaussian \n",
    "                                   amplitude in the Z direction.\n",
    "\n",
    "            Returns:\n",
    "                    XY slice\n",
    "    '''\n",
    "    \n",
    "    # let's create a grid of values: n+1 values ranging from 0 to n\n",
    "    n = size_xy\n",
    "    grid = np.linspace(0, n, n+1)\n",
    "    \n",
    "    # create a meshgrid\n",
    "    x, y = np.meshgrid(grid, grid)\n",
    "    \n",
    "    # distance to the center of the grid\n",
    "    delta_x = x - size_xy / 2\n",
    "    delta_y = y - size_xy / 2\n",
    "    d_xy = np.sqrt(delta_x*delta_x+delta_y*delta_y)\n",
    "    \n",
    "    # effective standard deviation (small at z=0, larger with distance to the center plane)\n",
    "    # with a symmetry break between +z and -z\n",
    "    std_xy_eff = std_xy * ( abs(delta_z) + 0.5)\n",
    "        \n",
    "    # compute Gaussian in XY\n",
    "    xy_gauss = np.exp(-( d_xy**2 / (2.0 * std_xy_eff**2 ) ) )\n",
    "    \n",
    "    # compute a z-dependent amplitude term\n",
    "    amplitude = a0 * np.exp(-( delta_z**2 / (2.0 * std_z**2 ) ) )\n",
    "    \n",
    "    # return the image with integer values\n",
    "    return (xy_gauss * amplitude).astype(np.int16)"
   ]
  },
  {
   "cell_type": "markdown",
   "id": "09e6b021",
   "metadata": {},
   "source": [
    "Let's now call this function to get a single slice:"
   ]
  },
  {
   "cell_type": "code",
   "execution_count": null,
   "id": "568a8f17",
   "metadata": {},
   "outputs": [],
   "source": [
    "#######################################################\n",
    "##### exercise: call the get_3D_gaussian function #####\n",
    "\n",
    "single_img = ....(5)  # we only pass one argument \n",
    "\n",
    "# print a sub-array of the image (read about calling numpy subarrays if you are not sure)\n",
    "print(single_img[....])  # hopefully, it is not just zeroes"
   ]
  },
  {
   "cell_type": "markdown",
   "id": "211c43c6",
   "metadata": {},
   "source": [
    "## 2 - Plotting\n",
    "\n",
    "Plotting numbers is not the best way to visualize numpy arrays. We can use `matplotlib` to see the array as an **image**. "
   ]
  },
  {
   "cell_type": "code",
   "execution_count": null,
   "id": "2eb2af2f",
   "metadata": {},
   "outputs": [],
   "source": [
    "import matplotlib.pyplot as plt\n",
    "\n",
    "######################################################\n",
    "##### exercise: plot single_img using plt.imshow #####\n",
    "\n",
    "...."
   ]
  },
  {
   "cell_type": "markdown",
   "id": "7fbb20ea",
   "metadata": {},
   "source": [
    "### Colormap\n",
    "\n",
    "Read more about colormaps [here] (https://matplotlib.org/stable/tutorials/colors/colormaps.html)"
   ]
  },
  {
   "cell_type": "code",
   "execution_count": null,
   "id": "04c3b558",
   "metadata": {},
   "outputs": [],
   "source": [
    "plt.imshow(single_img, cmap=\"magma\")  \n",
    "plt.axis(\"off\")\n",
    "plt.show()"
   ]
  },
  {
   "cell_type": "markdown",
   "id": "85df951a",
   "metadata": {},
   "source": [
    "### Colorbar\n",
    "Let's have a reference of the intenstiy values as a colorbar"
   ]
  },
  {
   "cell_type": "code",
   "execution_count": null,
   "id": "bfc2077b",
   "metadata": {},
   "outputs": [],
   "source": [
    "plt.figure(figsize=(6, 6))\n",
    "plt.imshow(single_img)\n",
    "plt.colorbar()\n",
    "plt.axis(\"off\")\n",
    "plt.show()"
   ]
  },
  {
   "cell_type": "markdown",
   "id": "38e4d470",
   "metadata": {},
   "source": [
    "### Plotting Histograms\n",
    "\n",
    "> -  Let's see the histogram of the intensity values\n",
    "> -  <code>image</code> is a 8-bit image, so the intensity values range from 0 to 255"
   ]
  },
  {
   "cell_type": "code",
   "execution_count": null,
   "id": "45cabcb8",
   "metadata": {},
   "outputs": [],
   "source": [
    "plt.figure(figsize=(6, 6))\n",
    "#bins indicate how may unique buclets you might want to put your values in and range is the min and max values in the image \n",
    "plt.hist(single_img.ravel(), bins=32, range=(15.0, 60.0))\n",
    "plt.xlabel(\"Intensity Value\")\n",
    "plt.ylabel(\"Count\")\n",
    "plt.show()"
   ]
  },
  {
   "cell_type": "markdown",
   "id": "fee2ac35",
   "metadata": {},
   "source": [
    "Often we need to deal with multidimensional images, and since the `get_3D_gaussian` function output is z-dependent, let's create a **stack** with different z-slices."
   ]
  },
  {
   "cell_type": "code",
   "execution_count": null,
   "id": "10b4a6b9",
   "metadata": {},
   "outputs": [],
   "source": [
    "###############################################\n",
    "##### exercise: generate a list of images #####\n",
    "#####                                     #####\n",
    "##### hint: look at line 27 in function   #####\n",
    "#####       get_3D_gaussian (see above)   #####\n",
    "\n",
    "# let's create a grid of points\n",
    "dzs = ....(-5, 5, 11) #Hint: read abput numpy linspace\n",
    "\n",
    "# now generate a list of images by calling the function get_3D_gaussian\n",
    "imgs = [.... for d in dzs]"
   ]
  },
  {
   "cell_type": "markdown",
   "id": "31321581",
   "metadata": {},
   "source": [
    "### Plotting multiple images in a given list \n",
    "Let's plot 4 images from the list <code>imgs</code> with a <code>magma</code> as <code>colormap</code>\n",
    "\n",
    "<code>ax</code> here is the axes object. It refers to the location in the grid that you create below\n",
    "Let us show few (4) image crops"
   ]
  },
  {
   "cell_type": "code",
   "execution_count": null,
   "id": "7bd07d86",
   "metadata": {},
   "outputs": [],
   "source": [
    "fig, ax = plt.subplots(2, 2, figsize=(8, 8))\n",
    "ax[0, 0].imshow(imgs[5], cmap=\"magma\")\n",
    "ax[0, 1].imshow(imgs[6], cmap=\"magma\")\n",
    "ax[1, 0].imshow(imgs[7], cmap=\"magma\")\n",
    "ax[1, 1].imshow(imgs[8], cmap=\"magma\")"
   ]
  },
  {
   "cell_type": "markdown",
   "id": "947f7c0d",
   "metadata": {},
   "source": [
    "Here is a more complicated function to plot images. Since we have a list of images, we would like to be able to compare them side by side."
   ]
  },
  {
   "cell_type": "code",
   "execution_count": null,
   "id": "c51b885b",
   "metadata": {},
   "outputs": [],
   "source": [
    "def plot_images_list(images, titles=None, max_value=255):\n",
    "    '''\n",
    "    Plot a list of images.\n",
    "\n",
    "            Parameters:\n",
    "                    images (list): List of 2D numpy arrays\n",
    "                    titles (list): List of string used as titles for the subplots\n",
    "                    max_value (float): Maximum amplitude of the Gaussian.\n",
    "    '''\n",
    "    \n",
    "    # some flexible parameters to adapt the number of rows/cols and size\n",
    "    root = np.sqrt( len( images ) ).astype(int)\n",
    "    size = 50 / root  # arbitrary\n",
    "\n",
    "    # if no title was given\n",
    "    if titles is None:\n",
    "        titles = [i for i in range( len(images) )]\n",
    "    \n",
    "    # create subplots\n",
    "    fig, axs = plt.subplots(root, root, figsize=(10, 10))\n",
    "    \n",
    "    # now we populate the subplots with images\n",
    "    for i, ax in enumerate(axs.flatten()):\n",
    "        \n",
    "        if i < len(imgs):\n",
    "            # show image\n",
    "            ax.imshow(imgs[i], vmin=0, vmax=max_value)\n",
    "            \n",
    "            # add title\n",
    "            ax.set_title(titles[i])\n",
    "        else:\n",
    "            # in case the number of suplots is larger than the number of elements in images\n",
    "            ax.remove()\n",
    "    plt.show()\n"
   ]
  },
  {
   "cell_type": "markdown",
   "id": "54746cfc",
   "metadata": {},
   "source": [
    "Let's use the <code>plot_images_list</code> function to plot all the slices."
   ]
  },
  {
   "cell_type": "code",
   "execution_count": null,
   "id": "bffa0741",
   "metadata": {},
   "outputs": [],
   "source": [
    "###########################################################\n",
    "##### exercise: plot each image in the list           #####\n",
    "#####   - generate meaningful titles for each subplot #####\n",
    "#####   - use plot_images_list to plot the images     #####\n",
    "\n",
    "# make titles to use on top of each frame \n",
    "titles = ['z={}'.format(z)  for z in dzs]\n",
    "\n",
    "# use plot_images_list to plot multiple images\n",
    "....\n",
    "\n",
    "###########################################################\n",
    "##### Question: the images can be compared because they are\n",
    "##### plotted with a fixed contrast. Can you see where this\n",
    "##### happens?"
   ]
  },
  {
   "cell_type": "markdown",
   "id": "532bb6d4",
   "metadata": {},
   "source": [
    "### Plotting Exercise"
   ]
  },
  {
   "cell_type": "code",
   "execution_count": null,
   "id": "92978402",
   "metadata": {},
   "outputs": [],
   "source": [
    "###############################################################\n",
    "##### exercise: Plot 5 images in a row and plot the       #####\n",
    "##### intensity values as a histogram in the next row     #####\n",
    "##### hint: use what we have learned from above           ##### \n",
    "\n",
    "fig, ax = plt.subplots(2, 5, figsize=(25, 10))\n",
    "...."
   ]
  },
  {
   "cell_type": "markdown",
   "id": "fd3561b9",
   "metadata": {},
   "source": [
    "Now, let's create a real stack instead of a list of images."
   ]
  },
  {
   "cell_type": "code",
   "execution_count": null,
   "id": "0de9e1fb",
   "metadata": {},
   "outputs": [],
   "source": [
    "###############################################################\n",
    "##### exercise: create a single numpy array from the list #####\n",
    "#####                                                     #####\n",
    "##### hint: search how to stack arrays of same dimension  ##### \n",
    "\n",
    "stack = ....(imgs)\n",
    "\n",
    "# print the shape of the stack to verify that it was stacked correctly\n",
    "print(f'Shape of the stack: {stack.shape}')"
   ]
  },
  {
   "cell_type": "markdown",
   "id": "440c01d8",
   "metadata": {},
   "source": [
    "Often, we like to look at max projections to get a sense of the objects."
   ]
  },
  {
   "cell_type": "code",
   "execution_count": null,
   "id": "94a4a14e",
   "metadata": {},
   "outputs": [],
   "source": [
    "###############################################################\n",
    "##### exercise: use numpy to compute a max projection of  #####\n",
    "#####           the stack along one dimension             #####\n",
    "\n",
    "max_projection = np.max(stack, axis=....)\n",
    "\n",
    "# plot the projection (hint: we've seen how to plot a single frame before)\n",
    "plt.imshow(max_projection)\n",
    "\n",
    "# Try now with other axes!"
   ]
  },
  {
   "cell_type": "code",
   "execution_count": null,
   "id": "bacb6984",
   "metadata": {},
   "outputs": [],
   "source": [
    "#############################################################################\n",
    "##### Bonus: let's use a finer z grid and plot all projections together #####\n",
    "#####                                                                   #####\n",
    "##### This cell just shows you one way of plotting the projections in   #####\n",
    "##### along each dimension together                                     #####\n",
    "\n",
    "# finer grid\n",
    "dzs = np.linspace(-10, 10, 100)\n",
    "\n",
    "# new stack from the list\n",
    "new_stack = np.stack([get_3D_gaussian(d) for d in dzs])\n",
    "\n",
    "# get max projections\n",
    "max_proj_x = np.max(new_stack, axis=2)\n",
    "max_proj_y = np.max(new_stack, axis=1)\n",
    "max_proj_z = np.max(new_stack, axis=0)\n",
    "\n",
    "# create sub-plot\n",
    "fig, ((ax1, ax2), (ax3, ax4)) = plt.subplots(2, 2, figsize=(10, 10))\n",
    "\n",
    "ax1.remove()\n",
    "ax2.imshow(max_proj_x)\n",
    "ax3.imshow(max_proj_y.T)\n",
    "ax4.imshow(max_proj_z)\n",
    "plt.subplots_adjust(wspace=0, hspace=0)  # remove some white space"
   ]
  },
  {
   "cell_type": "markdown",
   "id": "b9eed794",
   "metadata": {},
   "source": [
    "## 3 - Saving and loading a numpy array\n",
    "\n",
    "The most convenient way to save a `numpy` array is simply to use the save and load function from `numpy`."
   ]
  },
  {
   "cell_type": "code",
   "execution_count": null,
   "id": "2b72c1fd",
   "metadata": {},
   "outputs": [],
   "source": [
    "import os\n",
    "from pathlib import Path\n",
    "\n",
    "# create a data directory\n",
    "data = 'Data'\n",
    "if not Path(data).exists():\n",
    "    os.mkdir('Data')\n",
    "\n",
    "# save the image\n",
    "path = os.path.join(data, 'my_stack.npy')\n",
    "np.save(path, stack)\n",
    "\n",
    "# check that it was written to the disk\n",
    "assert Path(path).exists(), 'Error: the path does not exists!'\n",
    "\n",
    "##################################################\n",
    "##### exercise: load the stack using np.load #####\n",
    "\n",
    "# load the stack\n",
    "loaded_stack = ....\n",
    "\n",
    "# check that they are the same (we compare each value in the arrays)\n",
    "# if no error is thrown (because assert passed), then they are the same!\n",
    "assert (loaded_stack == stack).all(), 'Error: the two stacks are not the same!'\n",
    "\n",
    "# or you might want to have Python tell you also in the case where the two stacks are the same\n",
    "print(f'Are the two stacks identical? {(loaded_stack == stack).all()}')"
   ]
  },
  {
   "cell_type": "markdown",
   "id": "b847a887",
   "metadata": {},
   "source": [
    "## 4 - Saving and loading tiffs\n",
    "\n",
    "While `.npy` are convenient, they are not typically read by other software or languages. For instance, they would not be convenient to open in ImageJ2/Fiji or add to a presentation. Tiffs are a popular format because they allow multi-dimensional images, extensive metadata and are usually not (lossy) compressed.\n",
    "\n",
    "There are many packages to load and save tiffs in Python. We do not have time to review them all, but the differences will be whether they allow multidimensional images or reading/writing metadata. Also interesting are packages that can load other image formats.\n",
    "\n",
    "Here is a (non-exhausitve) list of packages used to load tiffs (and other formats):\n",
    "- [tifffile](https://pypi.org/project/tifffile/)\n",
    "- [skimage](https://scikit-image.org/docs/dev/api/skimage.io.html#skimage.io.imread) (scikit-image)\n",
    "- [aicsimageio](https://allencellmodeling.github.io/aicsimageio/) \n",
    "- [python-bioformats](https://pythonhosted.org/python-bioformats/)\n",
    "- [pyimagej](https://pyimagej.readthedocs.io/en/latest/) \n",
    "- [pillow (PIL)](https://pypi.org/project/Pillow/)\n",
    "\n",
    "For simplicity we will use `tifffile` here. `tifffile` allows reading/writing multidimensional arrays and metada (to some extent)."
   ]
  },
  {
   "cell_type": "code",
   "execution_count": null,
   "id": "afbd15a6",
   "metadata": {},
   "outputs": [],
   "source": [
    "from tifffile import imwrite\n",
    "\n",
    "#################################################\n",
    "##### exercise: save the stack as a tiff    #####\n",
    "#####                                       #####\n",
    "##### hint: look at the line 1 in this cell #####\n",
    "\n",
    "# create path\n",
    "path = os.path.join(data, 'my_stack.tif')\n",
    "\n",
    "# save the stack\n",
    "....(path, stack)\n",
    "\n",
    "# check if the image has been created on the disk (hint: see previous cell line 14)\n",
    ".... #Hint: use the assert function (see above)"
   ]
  },
  {
   "cell_type": "code",
   "execution_count": null,
   "id": "74370840",
   "metadata": {},
   "outputs": [],
   "source": [
    "from tifffile import imread\n",
    "\n",
    "#####################################################\n",
    "##### exercise: read the stack and plot a slice #####\n",
    "\n",
    "# load stack\n",
    "loaded_tiff = ....\n",
    "\n",
    "# check that it is the same as the stack (hint: see two cells above, live 24)\n",
    "....\n",
    "\n",
    "# does that mean that tiffile returns a numpy array? Print the type of loaded_tiff:\n",
    "print(f'Type of the object returned by tiffile: {type(loaded_tiff)}')\n",
    "\n",
    "# plot a single slice\n",
    "...."
   ]
  },
  {
   "cell_type": "code",
   "execution_count": null,
   "id": "25bd3b36",
   "metadata": {},
   "outputs": [],
   "source": [
    "##################################################\n",
    "##### exercise: save the slices individually #####\n",
    "\n",
    "for i in range(stack.shape[0]):\n",
    "    # create path\n",
    "    path = os.path.join(data, ....)  # create a name that depends on i\n",
    "    \n",
    "    # write the corresponding slice to the disk\n",
    "    ...."
   ]
  },
  {
   "cell_type": "markdown",
   "id": "56d19186",
   "metadata": {},
   "source": [
    "## 5 - Other ways to plot\n",
    "\n",
    "While `matplotlib` is the most common ways of visualizing numpy arrays and images, other alternatives have emerged (beyond `jupyter notebooks`). \n",
    "\n",
    "\n",
    "### napari\n",
    "\n",
    "One that should be mentioned is `napari`, which is a N-dimensional image visualization tool. [napari](https://napari.org/) is a full software through which you can install plugins (among which the algorithms that you will use during this course). To a certain extent, `napari` can be used within `jupyter notebooks`. The most common way to use `napari` is to simply start it from the console.\n",
    "\n",
    "<img src=\"https://napari.org/_images/launch_cli_image.png\" width=\"800\" alt=\"napari\"/>\n",
    "\n",
    "\n",
    "### itkwidgets\n",
    "\n",
    "\n",
    "Another way, that is specifically integrated with `jupyter notebooks`, is `itkwidgets`.\n",
    "\n",
    "Now...\n",
    "\n",
    "...\n",
    "\n",
    "...\n",
    "\n",
    "\n",
    "... prepare your mind to be blown away. Run the next cell:"
   ]
  },
  {
   "cell_type": "code",
   "execution_count": null,
   "id": "900a7604",
   "metadata": {},
   "outputs": [],
   "source": [
    "from itkwidgets import view\n",
    "from scipy import ndimage\n",
    "\n",
    "# Your stack (probably) has a smaller z than x and y, which will lead in 3D to a very squished stack. \n",
    "# Let's pretend we know the pixel size and resize the stack:\n",
    "pixel_size = (1, 0.1, 0.1)  # (z, x, y)\n",
    "real_stack = ndimage.zoom(stack, pixel_size, order=0)\n",
    "\n",
    "# It might take a while\n",
    "view(real_stack, rotate=True, axes=True, gradient_opacity=0.9)\n",
    "\n",
    "# Play around a bit with the viewer!"
   ]
  },
  {
   "cell_type": "markdown",
   "id": "0113bee5",
   "metadata": {},
   "source": [
    "That's it for now!"
   ]
  }
 ],
 "metadata": {
  "kernelspec": {
   "display_name": "Python 3 (ipykernel)",
   "language": "python",
   "name": "python3"
  },
  "language_info": {
   "codemirror_mode": {
    "name": "ipython",
    "version": 3
   },
   "file_extension": ".py",
   "mimetype": "text/x-python",
   "name": "python",
   "nbconvert_exporter": "python",
   "pygments_lexer": "ipython3",
   "version": "3.9.0"
  }
 },
 "nbformat": 4,
 "nbformat_minor": 5
}
